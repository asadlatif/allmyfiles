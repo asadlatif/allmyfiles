{
 "cells": [
  {
   "cell_type": "code",
   "execution_count": 1,
   "metadata": {},
   "outputs": [],
   "source": [
    "name = \"Asad \"\n",
    "age = 24"
   ]
  },
  {
   "cell_type": "code",
   "execution_count": 2,
   "metadata": {},
   "outputs": [
    {
     "name": "stdout",
     "output_type": "stream",
     "text": [
      "My name is Asad and my age is 24.\n"
     ]
    }
   ],
   "source": [
    "print(\"My name is \" +name + \"and my age is \" +str(age) + \".\")"
   ]
  },
  {
   "cell_type": "code",
   "execution_count": 3,
   "metadata": {},
   "outputs": [
    {
     "name": "stdout",
     "output_type": "stream",
     "text": [
      "my name is  Asad   and my age is  24 .\n"
     ]
    }
   ],
   "source": [
    "print(\"my name is \" , name , \" and my age is \" , age , \".\")"
   ]
  },
  {
   "cell_type": "markdown",
   "metadata": {},
   "source": [
    "# Tuple"
   ]
  },
  {
   "cell_type": "code",
   "execution_count": 4,
   "metadata": {},
   "outputs": [],
   "source": [
    "my_tuple = ('Ahsan' , 21 , 21.45, True)"
   ]
  },
  {
   "cell_type": "code",
   "execution_count": 5,
   "metadata": {},
   "outputs": [
    {
     "data": {
      "text/plain": [
       "True"
      ]
     },
     "execution_count": 5,
     "metadata": {},
     "output_type": "execute_result"
    }
   ],
   "source": [
    "my_tuple[3]"
   ]
  },
  {
   "cell_type": "code",
   "execution_count": 6,
   "metadata": {},
   "outputs": [],
   "source": [
    "new_tup = (1,2,3,4,5,6,7,8,9,)"
   ]
  },
  {
   "cell_type": "code",
   "execution_count": 7,
   "metadata": {},
   "outputs": [
    {
     "data": {
      "text/plain": [
       "7"
      ]
     },
     "execution_count": 7,
     "metadata": {},
     "output_type": "execute_result"
    }
   ],
   "source": [
    "new_tup.index(8)"
   ]
  },
  {
   "cell_type": "code",
   "execution_count": 12,
   "metadata": {},
   "outputs": [
    {
     "data": {
      "text/plain": [
       "5"
      ]
     },
     "execution_count": 12,
     "metadata": {},
     "output_type": "execute_result"
    }
   ],
   "source": [
    "friends = (\"Ali\" , \"Ali\", \"Hamza\", \" Azhar\", \"Asad\",\"Ali\", \"Latif\")\n",
    "friends.index(\"Ali\" ,2 )"
   ]
  },
  {
   "cell_type": "code",
   "execution_count": 13,
   "metadata": {},
   "outputs": [],
   "source": [
    "naya = (1,2,3,4,5,6,4,5,6,7,8,7,9,7,9,) #agr me chaho k koi num is me kitni martaba use hoa he to me 'count' use kroga\n"
   ]
  },
  {
   "cell_type": "code",
   "execution_count": 14,
   "metadata": {},
   "outputs": [
    {
     "data": {
      "text/plain": [
       "2"
      ]
     },
     "execution_count": 14,
     "metadata": {},
     "output_type": "execute_result"
    }
   ],
   "source": [
    "naya.count(9)"
   ]
  },
  {
   "cell_type": "markdown",
   "metadata": {},
   "source": [
    "# LOOP"
   ]
  },
  {
   "cell_type": "markdown",
   "metadata": {},
   "source": [
    "# For Loop"
   ]
  },
  {
   "cell_type": "code",
   "execution_count": 16,
   "metadata": {},
   "outputs": [],
   "source": [
    "list1 = [1,2,3,4,5,6,7,8,9,10]   #agr me chahta ho k me har numm ko 2 se multiple krdo"
   ]
  },
  {
   "cell_type": "code",
   "execution_count": 17,
   "metadata": {},
   "outputs": [
    {
     "name": "stdout",
     "output_type": "stream",
     "text": [
      "2\n",
      "4\n",
      "6\n",
      "8\n",
      "10\n",
      "12\n",
      "14\n",
      "16\n",
      "18\n",
      "20\n"
     ]
    }
   ],
   "source": [
    "for number in list1:\n",
    "    square = number * 2\n",
    "    print(square)"
   ]
  },
  {
   "cell_type": "code",
   "execution_count": 18,
   "metadata": {},
   "outputs": [],
   "source": [
    "name1 = [\"Ali\", \"Inam\" , \"Asad\" , \"Abdul\" , \"Latif\"]"
   ]
  },
  {
   "cell_type": "code",
   "execution_count": 19,
   "metadata": {},
   "outputs": [
    {
     "name": "stdout",
     "output_type": "stream",
     "text": [
      "Ali\n",
      "Inam\n",
      "Asad\n",
      "Abdul\n",
      "Latif\n"
     ]
    }
   ],
   "source": [
    "for name2 in name1:\n",
    "    print(name2)"
   ]
  },
  {
   "cell_type": "code",
   "execution_count": 20,
   "metadata": {},
   "outputs": [],
   "source": [
    "# 2 X 1 = 2\n",
    "# Range"
   ]
  },
  {
   "cell_type": "code",
   "execution_count": 22,
   "metadata": {},
   "outputs": [
    {
     "name": "stdout",
     "output_type": "stream",
     "text": [
      "0 Pakistan\n",
      "1 Pakistan\n",
      "2 Pakistan\n",
      "3 Pakistan\n",
      "4 Pakistan\n",
      "5 Pakistan\n",
      "6 Pakistan\n",
      "7 Pakistan\n",
      "8 Pakistan\n",
      "9 Pakistan\n",
      "10 Pakistan\n"
     ]
    }
   ],
   "source": [
    "for i in range(11):\n",
    "    print(i, \"Pakistan\")"
   ]
  },
  {
   "cell_type": "code",
   "execution_count": 23,
   "metadata": {},
   "outputs": [
    {
     "name": "stdout",
     "output_type": "stream",
     "text": [
      "1 PIAIC\n",
      "2 PIAIC\n",
      "3 PIAIC\n",
      "4 PIAIC\n",
      "5 PIAIC\n",
      "6 PIAIC\n",
      "7 PIAIC\n",
      "8 PIAIC\n",
      "9 PIAIC\n",
      "10 PIAIC\n"
     ]
    }
   ],
   "source": [
    "for a in range (1, 11):\n",
    "    print(a, \"PIAIC\")"
   ]
  },
  {
   "cell_type": "code",
   "execution_count": 24,
   "metadata": {},
   "outputs": [
    {
     "name": "stdout",
     "output_type": "stream",
     "text": [
      "1\n",
      "2\n",
      "3\n",
      "4\n",
      "5\n",
      "6\n",
      "7\n",
      "8\n",
      "9\n",
      "10\n"
     ]
    }
   ],
   "source": [
    "for b in range(1,11,1):\n",
    "    print(b)"
   ]
  },
  {
   "cell_type": "code",
   "execution_count": 26,
   "metadata": {},
   "outputs": [
    {
     "name": "stdout",
     "output_type": "stream",
     "text": [
      "1\n",
      "3\n",
      "5\n",
      "7\n",
      "9\n"
     ]
    }
   ],
   "source": [
    "for c in range(1,11,2): #first kaha se start karna he sec kaha tak jana he third slicing kis ko nikal kr lana he \n",
    "    print(c)"
   ]
  },
  {
   "cell_type": "code",
   "execution_count": 27,
   "metadata": {},
   "outputs": [
    {
     "name": "stdout",
     "output_type": "stream",
     "text": [
      "10 9 8 7 6 5 4 3 2 1 "
     ]
    }
   ],
   "source": [
    "#for reverse \n",
    "for h in range (10,0,-1):\n",
    "    print(h, end=\" \")"
   ]
  },
  {
   "cell_type": "code",
   "execution_count": 29,
   "metadata": {},
   "outputs": [
    {
     "name": "stdout",
     "output_type": "stream",
     "text": [
      "1 \t"
     ]
    }
   ],
   "source": [
    "print(h, end=\" \\t\")"
   ]
  },
  {
   "cell_type": "code",
   "execution_count": 30,
   "metadata": {},
   "outputs": [
    {
     "name": "stdout",
     "output_type": "stream",
     "text": [
      "asad*******ali*******hamza\n"
     ]
    }
   ],
   "source": [
    "print(\"asad\", \"ali\", \"hamza\", sep=\"*******\") #space ki jaga mujhe agr kuch lana ho to"
   ]
  },
  {
   "cell_type": "code",
   "execution_count": 32,
   "metadata": {},
   "outputs": [
    {
     "name": "stdout",
     "output_type": "stream",
     "text": [
      "my name is asad and my age is 24\n"
     ]
    }
   ],
   "source": [
    "name = \"asad\"\n",
    "age = \"24\"\n",
    "print(\"my name is {} and my age is {}\" .format(name , age)) #type cast karna bhi nahi karna paaregaa"
   ]
  },
  {
   "cell_type": "code",
   "execution_count": 33,
   "metadata": {},
   "outputs": [
    {
     "name": "stdout",
     "output_type": "stream",
     "text": [
      "my name is asad and my age is 24\n"
     ]
    }
   ],
   "source": [
    "#there is one more to formate the str\n",
    "print(f\"my name is {name} and my age is {age}\")"
   ]
  },
  {
   "cell_type": "code",
   "execution_count": 43,
   "metadata": {},
   "outputs": [
    {
     "name": "stdout",
     "output_type": "stream",
     "text": [
      "enter any value you want look at table 5\n",
      " 5 X 1 = 5\n",
      " 5 X 2 = 10\n",
      " 5 X 3 = 15\n",
      " 5 X 4 = 20\n",
      " 5 X 5 = 25\n",
      " 5 X 6 = 30\n",
      " 5 X 7 = 35\n",
      " 5 X 8 = 40\n",
      " 5 X 9 = 45\n",
      " 5 X 10 = 50\n"
     ]
    }
   ],
   "source": [
    "val = int(input('enter any value you want look at table '))\n",
    "for nums in range(1,11):\n",
    "    print(f\" {val} X {nums} = {val * nums}\")"
   ]
  },
  {
   "cell_type": "code",
   "execution_count": 44,
   "metadata": {},
   "outputs": [],
   "source": [
    "#break, continue, pas\n"
   ]
  },
  {
   "cell_type": "code",
   "execution_count": 45,
   "metadata": {},
   "outputs": [
    {
     "name": "stdout",
     "output_type": "stream",
     "text": [
      "enter any value you want look at table 9\n",
      " 9 X 1 = 9\n",
      " 9 X 2 = 18\n"
     ]
    }
   ],
   "source": [
    "val = int(input('enter any value you want look at table '))\n",
    "for nums in range(1,11):\n",
    "    if nums==3:\n",
    "        break\n",
    "    print(f\" {val} X {nums} = {val * nums}\")"
   ]
  },
  {
   "cell_type": "code",
   "execution_count": 46,
   "metadata": {},
   "outputs": [
    {
     "name": "stdout",
     "output_type": "stream",
     "text": [
      "enter any value you want look at table 6\n",
      " 6 X 1 = 6\n",
      " 6 X 2 = 12\n",
      " 6 X 4 = 24\n",
      " 6 X 5 = 30\n",
      " 6 X 6 = 36\n",
      " 6 X 7 = 42\n",
      " 6 X 8 = 48\n",
      " 6 X 9 = 54\n",
      " 6 X 10 = 60\n"
     ]
    }
   ],
   "source": [
    "val = int(input('enter any value you want look at table '))\n",
    "for nums in range(1,11):\n",
    "    if nums==3:\n",
    "        continue\n",
    "    print(f\" {val} X {nums} = {val * nums}\")"
   ]
  },
  {
   "cell_type": "code",
   "execution_count": 51,
   "metadata": {},
   "outputs": [
    {
     "name": "stdout",
     "output_type": "stream",
     "text": [
      "your name please asad\n",
      "lets enjoy party\n",
      "lets enjoy party\n",
      "lets enjoy party\n",
      "lets enjoy party\n"
     ]
    }
   ],
   "source": [
    "lis1 = [\"asad\",\"Umair\",\"asif\",\"abid\",\"sultan\"]\n",
    "fr = input('your name please ').lower()\n",
    "rem = \n",
    "for bf in fr:\n",
    "    if bf == \"umair\":\n",
    "        break\n",
    "    print('lets enjoy party')"
   ]
  },
  {
   "cell_type": "code",
   "execution_count": 60,
   "metadata": {},
   "outputs": [
    {
     "name": "stdout",
     "output_type": "stream",
     "text": [
      "you name pleasec\n",
      "party is over\n"
     ]
    }
   ],
   "source": [
    "friends = [\"a\", \"b\",\"c\",\"d\",]\n",
    "ask = input(\"you name please\").lower()\n",
    "if ask != \"c\":\n",
    "    print(\"enjoy party\")\n",
    "else:\n",
    "    print(\"party is over\")"
   ]
  },
  {
   "cell_type": "code",
   "execution_count": 64,
   "metadata": {},
   "outputs": [],
   "source": [
    "for a in range(10):\n",
    "    \n",
    "    pass"
   ]
  },
  {
   "cell_type": "markdown",
   "metadata": {},
   "source": [
    "# nester for loops"
   ]
  },
  {
   "cell_type": "code",
   "execution_count": 69,
   "metadata": {},
   "outputs": [
    {
     "name": "stdout",
     "output_type": "stream",
     "text": [
      "0\n",
      "1\n",
      "2\n",
      "3\n",
      "4\n",
      "5\n",
      "6\n",
      "7\n",
      "8\n",
      "9\n",
      "9 a\n",
      "9 b\n",
      "9 c\n",
      "9 d\n",
      "9 e\n"
     ]
    }
   ],
   "source": [
    "for a in range(10):\n",
    "    print(a)\n",
    "for b in [\"a\",\"b\",\"c\",\"d\",\"e\"]:\n",
    "    print(a,b)\n",
    "#abhi ye multiple loop he"
   ]
  },
  {
   "cell_type": "code",
   "execution_count": 68,
   "metadata": {},
   "outputs": [
    {
     "name": "stdout",
     "output_type": "stream",
     "text": [
      "0 a\n",
      "0 b\n",
      "0 c\n",
      "0 d\n",
      "0 e\n",
      "1 a\n",
      "1 b\n",
      "1 c\n",
      "1 d\n",
      "1 e\n",
      "2 a\n",
      "2 b\n",
      "2 c\n",
      "2 d\n",
      "2 e\n"
     ]
    }
   ],
   "source": [
    "for a in range(3):\n",
    "    for b in [\"a\",\"b\",\"c\",\"d\",\"e\"]:\n",
    "        print(a,b)"
   ]
  },
  {
   "cell_type": "code",
   "execution_count": 85,
   "metadata": {},
   "outputs": [
    {
     "name": "stdout",
     "output_type": "stream",
     "text": [
      " 1 X 1 = 1\n",
      " 1 X 2 = 2\n",
      " 1 X 3 = 3\n",
      " 1 X 4 = 4\n",
      " 1 X 5 = 5\n",
      " 1 X 6 = 6\n",
      " 1 X 7 = 7\n",
      " 1 X 8 = 8\n",
      " 1 X 9 = 9\n",
      " 2 X 1 = 2\n",
      " 2 X 2 = 4\n",
      " 2 X 3 = 6\n",
      " 2 X 4 = 8\n",
      " 2 X 5 = 10\n",
      " 2 X 6 = 12\n",
      " 2 X 7 = 14\n",
      " 2 X 8 = 16\n",
      " 2 X 9 = 18\n",
      " 3 X 1 = 3\n",
      " 3 X 2 = 6\n",
      " 3 X 3 = 9\n",
      " 3 X 4 = 12\n",
      " 3 X 5 = 15\n",
      " 3 X 6 = 18\n",
      " 3 X 7 = 21\n",
      " 3 X 8 = 24\n",
      " 3 X 9 = 27\n",
      " 4 X 1 = 4\n",
      " 4 X 2 = 8\n",
      " 4 X 3 = 12\n",
      " 4 X 4 = 16\n",
      " 4 X 5 = 20\n",
      " 4 X 6 = 24\n",
      " 4 X 7 = 28\n",
      " 4 X 8 = 32\n",
      " 4 X 9 = 36\n",
      " 5 X 1 = 5\n",
      " 5 X 2 = 10\n",
      " 5 X 3 = 15\n",
      " 5 X 4 = 20\n",
      " 5 X 5 = 25\n",
      " 5 X 6 = 30\n",
      " 5 X 7 = 35\n",
      " 5 X 8 = 40\n",
      " 5 X 9 = 45\n",
      " 6 X 1 = 6\n",
      " 6 X 2 = 12\n",
      " 6 X 3 = 18\n",
      " 6 X 4 = 24\n",
      " 6 X 5 = 30\n",
      " 6 X 6 = 36\n",
      " 6 X 7 = 42\n",
      " 6 X 8 = 48\n",
      " 6 X 9 = 54\n",
      " 7 X 1 = 7\n",
      " 7 X 2 = 14\n",
      " 7 X 3 = 21\n",
      " 7 X 4 = 28\n",
      " 7 X 5 = 35\n",
      " 7 X 6 = 42\n",
      " 7 X 7 = 49\n",
      " 7 X 8 = 56\n",
      " 7 X 9 = 63\n",
      " 8 X 1 = 8\n",
      " 8 X 2 = 16\n",
      " 8 X 3 = 24\n",
      " 8 X 4 = 32\n",
      " 8 X 5 = 40\n",
      " 8 X 6 = 48\n",
      " 8 X 7 = 56\n",
      " 8 X 8 = 64\n",
      " 8 X 9 = 72\n",
      " 9 X 1 = 9\n",
      " 9 X 2 = 18\n",
      " 9 X 3 = 27\n",
      " 9 X 4 = 36\n",
      " 9 X 5 = 45\n",
      " 9 X 6 = 54\n",
      " 9 X 7 = 63\n",
      " 9 X 8 = 72\n",
      " 9 X 9 = 81\n"
     ]
    }
   ],
   "source": [
    "for p in range(1,10):\n",
    "    for m in range(1,10):\n",
    "        print(f\" {p} X {m} = {p*m}\")"
   ]
  },
  {
   "cell_type": "code",
   "execution_count": null,
   "metadata": {},
   "outputs": [],
   "source": []
  }
 ],
 "metadata": {
  "kernelspec": {
   "display_name": "Python 3",
   "language": "python",
   "name": "python3"
  },
  "language_info": {
   "codemirror_mode": {
    "name": "ipython",
    "version": 3
   },
   "file_extension": ".py",
   "mimetype": "text/x-python",
   "name": "python",
   "nbconvert_exporter": "python",
   "pygments_lexer": "ipython3",
   "version": "3.7.3"
  }
 },
 "nbformat": 4,
 "nbformat_minor": 2
}
