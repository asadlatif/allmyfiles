#!/usr/bin/env python
# coding: utf-8

# # First Assignment by Asad Latif

# In[29]:


print('welcome to your Marksheet')
eng = float(input('please enter your english markes \n'))
if eng <= 100:
    urdu = float(input('please enter your urdu markes \n'))
    if urdu <= 100:
        maths = float(input('please enter your urdu markes \n'))
        if maths <= 100:
            print('please wait....!!!')
            if eng <= 25:
                print('you fail ')
            elif urdu <= 25:
                print('you fail')
            elif maths <= 25:
                print('you fail')
            else:
                obt = eng + urdu + maths 
                result = obt / 300 * 100
                print('your result is ' +str(result)+ '%')
        else:
            print('you entered invalid value')
    else:
        print('you entered invalid value')
else:
    print('you entered invalid value')


# In[ ]:





# In[ ]:




