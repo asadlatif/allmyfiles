{
 "cells": [
  {
   "cell_type": "markdown",
   "metadata": {},
   "source": [
    "\n",
    "# dictionary"
   ]
  },
  {
   "cell_type": "code",
   "execution_count": 1,
   "metadata": {},
   "outputs": [
    {
     "name": "stdout",
     "output_type": "stream",
     "text": [
      "{'name': 'asad', 'age': 24, 'CNIC': 4210199455481}\n"
     ]
    }
   ],
   "source": [
    "dic1 = {\"name\": 'asad', 'age':24, \"CNIC\" : 4210199455481}       #dictionary me key int float string kuch bhi rakhwwa sakte he\n",
    "print(dic1)"
   ]
  },
  {
   "cell_type": "code",
   "execution_count": 2,
   "metadata": {},
   "outputs": [
    {
     "data": {
      "text/plain": [
       "24"
      ]
     },
     "execution_count": 2,
     "metadata": {},
     "output_type": "execute_result"
    }
   ],
   "source": [
    "dic1['age']"
   ]
  },
  {
   "cell_type": "code",
   "execution_count": 3,
   "metadata": {},
   "outputs": [
    {
     "name": "stdout",
     "output_type": "stream",
     "text": [
      "{'f_name': 'asad latif', 'my age': 22}\n"
     ]
    }
   ],
   "source": [
    "empty_dict = {}                                   #empty list me add krna hoto\n",
    "empty_dict['f_name']= 'asad latif'\n",
    "empty_dict['my age']= 22\n",
    "print(empty_dict)"
   ]
  },
  {
   "cell_type": "code",
   "execution_count": 8,
   "metadata": {},
   "outputs": [
    {
     "name": "stdout",
     "output_type": "stream",
     "text": [
      "{'age': 2, 'gender': 'male'}\n"
     ]
    }
   ],
   "source": [
    "#ek dictionary me ek hi name se do keys nahi hosakti!!!!!!\n",
    "multi = {'age': 22, 'age': 2, 'gender': \"male\"}\n",
    "print(multi)"
   ]
  },
  {
   "cell_type": "code",
   "execution_count": 9,
   "metadata": {},
   "outputs": [
    {
     "name": "stdout",
     "output_type": "stream",
     "text": [
      "{'gender': 'male'}\n"
     ]
    }
   ],
   "source": [
    "#agr kuch delete krni ho to\n",
    "del multi['age']\n",
    "print(multi)"
   ]
  },
  {
   "cell_type": "code",
   "execution_count": 11,
   "metadata": {},
   "outputs": [
    {
     "name": "stdout",
     "output_type": "stream",
     "text": [
      "asad\n",
      "24\n",
      "4210199455481\n"
     ]
    }
   ],
   "source": [
    "dic1 = {\"name\": 'asad', 'age':24, \"CNIC\" : 4210199455481}   #jab ap kisi dic k uper .values ka option use krengy to wo dic ki tmam values ko list bana kr print krta he\n",
    "for info in dic1.values():\n",
    "    print(info)"
   ]
  },
  {
   "cell_type": "code",
   "execution_count": 13,
   "metadata": {},
   "outputs": [
    {
     "name": "stdout",
     "output_type": "stream",
     "text": [
      "name\n",
      "age\n",
      "CNIC\n"
     ]
    }
   ],
   "source": [
    "dic1 = {\"name\": 'asad', 'age':24, \"CNIC\" : 4210199455481}   #jab ap kisi dic k uper .keys ka option use krengy to wo dic ki tmam keys ko list bana kr print krta he\n",
    "for info1 in dic1.keys():\n",
    "    print(info1)"
   ]
  },
  {
   "cell_type": "code",
   "execution_count": 14,
   "metadata": {},
   "outputs": [
    {
     "name": "stdout",
     "output_type": "stream",
     "text": [
      "asad latif\n",
      "20\n",
      "male\n"
     ]
    }
   ],
   "source": [
    "new_dict = {'full name' : 'asad latif', 'age': 20, 'gender':\"male\"}\n",
    "for info2 in new_dict.keys():\n",
    "    print(new_dict[info2])"
   ]
  },
  {
   "cell_type": "code",
   "execution_count": 15,
   "metadata": {},
   "outputs": [
    {
     "name": "stdout",
     "output_type": "stream",
     "text": [
      "This is a key:  name This is a valye:  Hamza\n",
      "This is a key:  age This is a valye:  23\n",
      "This is a key:  CNIC This is a valye:  42101-9945548-1\n",
      "This is a key:  Gender This is a valye:  Male\n"
     ]
    }
   ],
   "source": [
    "dict01 = {'name':'Hamza','age': 23 , 'CNIC' : '42101-9945548-1', 'Gender': 'Male'}\n",
    "for key,value in dict01.items():\n",
    "    print('This is a key: ' , key, 'This is a valye: ' , value)"
   ]
  },
  {
   "cell_type": "code",
   "execution_count": 3,
   "metadata": {},
   "outputs": [
    {
     "name": "stdout",
     "output_type": "stream",
     "text": [
      "enter your namenn\n",
      "enter your gendernn\n",
      "enter your age5\n",
      "{'name': 'nn', 'gender': 'nn', 'age': 5}\n"
     ]
    }
   ],
   "source": [
    "profile = {}\n",
    "user1 = input('enter your name').lower()\n",
    "profile['name']= user1\n",
    "user2 = input('enter your gender').lower()\n",
    "profile['gender'] = user2\n",
    "user3 = int(input('enter your age'))\n",
    "profile['age'] = user3\n",
    "print(profile)"
   ]
  },
  {
   "cell_type": "code",
   "execution_count": 5,
   "metadata": {},
   "outputs": [
    {
     "name": "stdout",
     "output_type": "stream",
     "text": [
      "enter your name: name\n",
      "enter your age: 22\n",
      "enter your roll # 1234\n",
      "{'name': 'name', 'age': 22, 'roll_no': 1234}\n"
     ]
    }
   ],
   "source": [
    "profile2 = {}\n",
    "profile2['name'] = input('enter your name: ')\n",
    "profile2['age'] = int(input('enter your age: '))\n",
    "profile2['roll_no'] = int(input(\"enter your roll # \"))\n",
    "print(profile2)"
   ]
  },
  {
   "cell_type": "code",
   "execution_count": 23,
   "metadata": {},
   "outputs": [
    {
     "ename": "SyntaxError",
     "evalue": "invalid syntax (<ipython-input-23-cfbef0099275>, line 4)",
     "output_type": "error",
     "traceback": [
      "\u001b[1;36m  File \u001b[1;32m\"<ipython-input-23-cfbef0099275>\"\u001b[1;36m, line \u001b[1;32m4\u001b[0m\n\u001b[1;33m    for i[customer] ==\"234\":\u001b[0m\n\u001b[1;37m                     ^\u001b[0m\n\u001b[1;31mSyntaxError\u001b[0m\u001b[1;31m:\u001b[0m invalid syntax\n"
     ]
    }
   ],
   "source": [
    "customer = [{\"customer_id\": \"123\" , \"name\" : \"Shahzad\"},\n",
    "            {\"customer_id\" : \"234\" , \"name\" : \"Mohsin\"},\n",
    "            {\"customer_id\" : \"534\" , \"name\" : \"hamza\"}]\n",
    "for i[customer] ==\"234\":\n",
    "    customer.remove(i)\n",
    "    print(customer)"
   ]
  },
  {
   "cell_type": "code",
   "execution_count": null,
   "metadata": {},
   "outputs": [],
   "source": []
  },
  {
   "cell_type": "code",
   "execution_count": null,
   "metadata": {},
   "outputs": [],
   "source": []
  },
  {
   "cell_type": "markdown",
   "metadata": {},
   "source": [
    "# Functions"
   ]
  },
  {
   "cell_type": "code",
   "execution_count": 24,
   "metadata": {},
   "outputs": [],
   "source": [
    "def add():\n",
    "    a = 3\n",
    "    b = 4\n",
    "    c = a + b\n",
    "    print(c)"
   ]
  },
  {
   "cell_type": "code",
   "execution_count": 25,
   "metadata": {},
   "outputs": [
    {
     "name": "stdout",
     "output_type": "stream",
     "text": [
      "7\n"
     ]
    }
   ],
   "source": [
    "add()"
   ]
  },
  {
   "cell_type": "code",
   "execution_count": 26,
   "metadata": {},
   "outputs": [],
   "source": [
    "def func(x):\n",
    "    print(x)"
   ]
  },
  {
   "cell_type": "code",
   "execution_count": 27,
   "metadata": {},
   "outputs": [
    {
     "name": "stdout",
     "output_type": "stream",
     "text": [
      "hello world\n"
     ]
    }
   ],
   "source": [
    "func('hello world')"
   ]
  },
  {
   "cell_type": "code",
   "execution_count": 28,
   "metadata": {},
   "outputs": [],
   "source": [
    "def add(x,y):\n",
    "    print(x+y)"
   ]
  },
  {
   "cell_type": "code",
   "execution_count": 30,
   "metadata": {},
   "outputs": [
    {
     "name": "stdout",
     "output_type": "stream",
     "text": [
      "5\n"
     ]
    }
   ],
   "source": [
    "add(2,3)"
   ]
  },
  {
   "cell_type": "code",
   "execution_count": 34,
   "metadata": {},
   "outputs": [
    {
     "name": "stdout",
     "output_type": "stream",
     "text": [
      "12\n"
     ]
    }
   ],
   "source": [
    "def calculator (no1,no2,operator):\n",
    "    if operator == \"+\":\n",
    "        print (no1+no2)\n",
    "    elif operator == \"-\":\n",
    "        print(no1-no2)\n",
    "    elif operator == \"/\":\n",
    "        print(no1/no2)\n",
    "    elif operator == \"*\":\n",
    "        print(no1*no2)\n",
    "    else:\n",
    "        print(\"invalid operator\")\n",
    "calculator(6,6,\"+\")\n",
    "        "
   ]
  },
  {
   "cell_type": "code",
   "execution_count": 35,
   "metadata": {},
   "outputs": [
    {
     "name": "stdout",
     "output_type": "stream",
     "text": [
      "12\n"
     ]
    }
   ],
   "source": [
    "def calculator (no1,no2,operator=\"+\"):  #agr chahe to default value bhi dal sakte he \n",
    "    if operator == \"+\":\n",
    "        print (no1+no2)\n",
    "    elif operator == \"-\":\n",
    "        print(no1-no2)\n",
    "    elif operator == \"/\":\n",
    "        print(no1/no2)\n",
    "    elif operator == \"*\":\n",
    "        print(no1*no2)\n",
    "    else:\n",
    "        print(\"invalid operator\")\n",
    "calculator(6,6,)"
   ]
  },
  {
   "cell_type": "code",
   "execution_count": 36,
   "metadata": {},
   "outputs": [
    {
     "name": "stdout",
     "output_type": "stream",
     "text": [
      "my name is asad latif\n",
      "myy father name is abdul latif\n"
     ]
    }
   ],
   "source": [
    "def userandfather(username, fathername):\n",
    "    print('my name is ' + username)\n",
    "    print('myy father name is ' + fathername)\n",
    "userandfather(username='asad latif', fathername=\"abdul latif\")"
   ]
  },
  {
   "cell_type": "code",
   "execution_count": 37,
   "metadata": {},
   "outputs": [
    {
     "name": "stdout",
     "output_type": "stream",
     "text": [
      "my name is asad latif\n",
      "myy father name is abdul latif\n"
     ]
    }
   ],
   "source": [
    "userandfather(\"asad latif\", \"abdul latif\")"
   ]
  },
  {
   "cell_type": "code",
   "execution_count": null,
   "metadata": {},
   "outputs": [],
   "source": [
    "myfullname"
   ]
  }
 ],
 "metadata": {
  "kernelspec": {
   "display_name": "Python 3",
   "language": "python",
   "name": "python3"
  },
  "language_info": {
   "codemirror_mode": {
    "name": "ipython",
    "version": 3
   },
   "file_extension": ".py",
   "mimetype": "text/x-python",
   "name": "python",
   "nbconvert_exporter": "python",
   "pygments_lexer": "ipython3",
   "version": "3.7.3"
  }
 },
 "nbformat": 4,
 "nbformat_minor": 2
}
